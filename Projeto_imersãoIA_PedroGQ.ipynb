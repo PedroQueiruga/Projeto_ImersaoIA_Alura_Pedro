{
  "nbformat": 4,
  "nbformat_minor": 0,
  "metadata": {
    "colab": {
      "provenance": [],
      "authorship_tag": "ABX9TyOvLB8l0hylK3dT2kE6N3U/",
      "include_colab_link": true
    },
    "kernelspec": {
      "name": "python3",
      "display_name": "Python 3"
    },
    "language_info": {
      "name": "python"
    }
  },
  "cells": [
    {
      "cell_type": "markdown",
      "metadata": {
        "id": "view-in-github",
        "colab_type": "text"
      },
      "source": [
        "<a href=\"https://colab.research.google.com/github/PedroQueiruga/Projeto_ImersaoIA_Alura_Pedro/blob/main/Projeto_imers%C3%A3oIA_PedroGQ.ipynb\" target=\"_parent\"><img src=\"https://colab.research.google.com/assets/colab-badge.svg\" alt=\"Open In Colab\"/></a>"
      ]
    },
    {
      "cell_type": "markdown",
      "source": [
        "##Sessão 1: Configurações Iniciais\n",
        "\n",
        "* Nessa primeira seção, vamos dedicar à configuração inicial do ambiente e à preparação das ferramentas que serão utilizadas posteriormente.\n",
        "\n",
        "* O passo a passo do que acontece é:\n",
        "  * Instalar os programas e bibliotecas extras que o\n",
        "  restante do código vai precisar para funcionar;\n",
        "  * Configurar a chave de acesso pessoal para acessar os serviços do Google AI;\n",
        "  * Preparamos ferramentas do Google AI para serem utilizadas;\n",
        "  * Importamos ferramentas que ajudaram a mostrar os resultados de forma mais fácil de visualizar no notebook."
      ],
      "metadata": {
        "id": "1QT9yATxrCgf"
      }
    },
    {
      "cell_type": "code",
      "execution_count": 1,
      "metadata": {
        "colab": {
          "base_uri": "https://localhost:8080/"
        },
        "id": "IRlQ8rdNovZr",
        "outputId": "de010744-138e-4002-a247-396c4ee022da"
      },
      "outputs": [
        {
          "output_type": "stream",
          "name": "stdout",
          "text": [
            "\u001b[?25l   \u001b[90m━━━━━━━━━━━━━━━━━━━━━━━━━━━━━━━━━━━━━━━━\u001b[0m \u001b[32m0.0/1.2 MB\u001b[0m \u001b[31m?\u001b[0m eta \u001b[36m-:--:--\u001b[0m\r\u001b[2K   \u001b[91m━━━━━━━━━━━━━━━━━━━━━━━━\u001b[0m\u001b[91m╸\u001b[0m\u001b[90m━━━━━━━━━━━━━━━\u001b[0m \u001b[32m0.7/1.2 MB\u001b[0m \u001b[31m21.5 MB/s\u001b[0m eta \u001b[36m0:00:01\u001b[0m\r\u001b[2K   \u001b[90m━━━━━━━━━━━━━━━━━━━━━━━━━━━━━━━━━━━━━━━━\u001b[0m \u001b[32m1.2/1.2 MB\u001b[0m \u001b[31m19.0 MB/s\u001b[0m eta \u001b[36m0:00:00\u001b[0m\n",
            "\u001b[?25h\u001b[?25l   \u001b[90m━━━━━━━━━━━━━━━━━━━━━━━━━━━━━━━━━━━━━━━━\u001b[0m \u001b[32m0.0/232.1 kB\u001b[0m \u001b[31m?\u001b[0m eta \u001b[36m-:--:--\u001b[0m\r\u001b[2K   \u001b[90m━━━━━━━━━━━━━━━━━━━━━━━━━━━━━━━━━━━━━━━━\u001b[0m \u001b[32m232.1/232.1 kB\u001b[0m \u001b[31m15.2 MB/s\u001b[0m eta \u001b[36m0:00:00\u001b[0m\n",
            "\u001b[?25h\u001b[?25l   \u001b[90m━━━━━━━━━━━━━━━━━━━━━━━━━━━━━━━━━━━━━━━━\u001b[0m \u001b[32m0.0/95.2 kB\u001b[0m \u001b[31m?\u001b[0m eta \u001b[36m-:--:--\u001b[0m\r\u001b[2K   \u001b[90m━━━━━━━━━━━━━━━━━━━━━━━━━━━━━━━━━━━━━━━━\u001b[0m \u001b[32m95.2/95.2 kB\u001b[0m \u001b[31m7.9 MB/s\u001b[0m eta \u001b[36m0:00:00\u001b[0m\n",
            "\u001b[?25h\u001b[?25l   \u001b[90m━━━━━━━━━━━━━━━━━━━━━━━━━━━━━━━━━━━━━━━━\u001b[0m \u001b[32m0.0/217.1 kB\u001b[0m \u001b[31m?\u001b[0m eta \u001b[36m-:--:--\u001b[0m\r\u001b[2K   \u001b[90m━━━━━━━━━━━━━━━━━━━━━━━━━━━━━━━━━━━━━━━━\u001b[0m \u001b[32m217.1/217.1 kB\u001b[0m \u001b[31m15.3 MB/s\u001b[0m eta \u001b[36m0:00:00\u001b[0m\n",
            "\u001b[2K   \u001b[90m━━━━━━━━━━━━━━━━━━━━━━━━━━━━━━━━━━━━━━━━\u001b[0m \u001b[32m334.1/334.1 kB\u001b[0m \u001b[31m21.5 MB/s\u001b[0m eta \u001b[36m0:00:00\u001b[0m\n",
            "\u001b[2K   \u001b[90m━━━━━━━━━━━━━━━━━━━━━━━━━━━━━━━━━━━━━━━━\u001b[0m \u001b[32m125.1/125.1 kB\u001b[0m \u001b[31m7.0 MB/s\u001b[0m eta \u001b[36m0:00:00\u001b[0m\n",
            "\u001b[2K   \u001b[90m━━━━━━━━━━━━━━━━━━━━━━━━━━━━━━━━━━━━━━━━\u001b[0m \u001b[32m65.8/65.8 kB\u001b[0m \u001b[31m4.0 MB/s\u001b[0m eta \u001b[36m0:00:00\u001b[0m\n",
            "\u001b[2K   \u001b[90m━━━━━━━━━━━━━━━━━━━━━━━━━━━━━━━━━━━━━━━━\u001b[0m \u001b[32m119.0/119.0 kB\u001b[0m \u001b[31m9.1 MB/s\u001b[0m eta \u001b[36m0:00:00\u001b[0m\n",
            "\u001b[2K   \u001b[90m━━━━━━━━━━━━━━━━━━━━━━━━━━━━━━━━━━━━━━━━\u001b[0m \u001b[32m194.9/194.9 kB\u001b[0m \u001b[31m15.3 MB/s\u001b[0m eta \u001b[36m0:00:00\u001b[0m\n",
            "\u001b[2K   \u001b[90m━━━━━━━━━━━━━━━━━━━━━━━━━━━━━━━━━━━━━━━━\u001b[0m \u001b[32m62.5/62.5 kB\u001b[0m \u001b[31m5.1 MB/s\u001b[0m eta \u001b[36m0:00:00\u001b[0m\n",
            "\u001b[2K   \u001b[90m━━━━━━━━━━━━━━━━━━━━━━━━━━━━━━━━━━━━━━━━\u001b[0m \u001b[32m103.3/103.3 kB\u001b[0m \u001b[31m8.1 MB/s\u001b[0m eta \u001b[36m0:00:00\u001b[0m\n",
            "\u001b[2K   \u001b[90m━━━━━━━━━━━━━━━━━━━━━━━━━━━━━━━━━━━━━━━━\u001b[0m \u001b[32m44.4/44.4 kB\u001b[0m \u001b[31m3.0 MB/s\u001b[0m eta \u001b[36m0:00:00\u001b[0m\n",
            "\u001b[2K   \u001b[90m━━━━━━━━━━━━━━━━━━━━━━━━━━━━━━━━━━━━━━━━\u001b[0m \u001b[32m72.0/72.0 kB\u001b[0m \u001b[31m5.7 MB/s\u001b[0m eta \u001b[36m0:00:00\u001b[0m\n",
            "\u001b[?25h"
          ]
        }
      ],
      "source": [
        "#Vamos começar instalando as componentes importantes:\n",
        "\n",
        "!pip -q install google-genai\n",
        "!pip install -q google-adk"
      ]
    },
    {
      "cell_type": "code",
      "source": [
        "#Configurando a API Key do Google\n",
        "\n",
        "import os\n",
        "from google.colab import userdata\n",
        "\n",
        "os.environ[\"GOOGLE_API_KEY\"] = userdata.get('GOOGLE_API_KEY')"
      ],
      "metadata": {
        "id": "_nUkON3pqemi"
      },
      "execution_count": 2,
      "outputs": []
    },
    {
      "cell_type": "code",
      "source": [
        "#Configurando a SDK (Software Development Kit) do Gemini\n",
        "\n",
        "from google import genai\n",
        "\n",
        "clint = genai.Client()\n",
        "\n",
        "model = \"gemini-2.0-flash\"\n"
      ],
      "metadata": {
        "id": "OeQ8bcZzqoDp"
      },
      "execution_count": 3,
      "outputs": []
    },
    {
      "cell_type": "code",
      "source": [
        "#Colocando as componentes ADK (Agent Development Kit) de agentes no programa\n",
        "\n",
        "from google.adk.agents import Agent\n",
        "from google.adk.runners import Runner\n",
        "from google.adk.sessions import InMemorySessionService\n",
        "from google.adk.tools import google_search\n",
        "from google.genai import types\n",
        "from datetime import date\n",
        "\n",
        "#Os facilitadores para visualização, que vão formatar a saída de texto\n",
        "\n",
        "import textwrap\n",
        "from IPython.display import display, Markdown\n",
        "import requests\n",
        "import warnings\n",
        "\n",
        "warnings.filterwarnings(\"ignore\")\n",
        "\n"
      ],
      "metadata": {
        "id": "cP2-BLVTq9Vg"
      },
      "execution_count": 4,
      "outputs": []
    },
    {
      "cell_type": "code",
      "source": [
        "#Agora, vamos criar uma função auxiliar para chamar o agente:\n",
        "\n",
        "def call_agent(agent: Agent, message_text:str) -> str:\n",
        "  #Criar o serviço na memória\n",
        "  session_service = InMemorySessionService()\n",
        "  #Criar uma sessão nova do serviço\n",
        "  session = session_service.create_session(app_name=agent.name, user_id=\"user1\", session_id=\"session1\")\n",
        "  #Criar um Runner para o agente (Responsável por gerenciar agentes e seu fluxo de trabalho)\n",
        "  runner = Runner(agent=agent, app_name=agent.name, session_service=session_service)\n",
        "  #Criar o conteúdo da mensagem de entrada\n",
        "  content = types.Content(role=\"user\", parts=[types.Part(text=message_text)])\n",
        "\n",
        "  final_response = \"\"\n",
        "\n",
        "  # Itera assincronamente pelos eventos retornados durante a execução do agente\n",
        "  for event in runner.run(user_id=\"user1\", session_id=\"session1\", new_message=content):\n",
        "      if event.is_final_response():\n",
        "        for part in event.content.parts:\n",
        "          if part.text is not None:\n",
        "            final_response += part.text\n",
        "            final_response += \"\\n\"\n",
        "  return final_response\n"
      ],
      "metadata": {
        "id": "IHLCIAnuutJd"
      },
      "execution_count": 5,
      "outputs": []
    },
    {
      "cell_type": "code",
      "source": [
        "#Por fim, vamos criar uma função auxiliar para exibição do resultado:\n",
        "def to_markdown(text):\n",
        "  text = text.replace('•', '  *')\n",
        "  return Markdown(textwrap.indent(text, '> ', predicate=lambda _: True))"
      ],
      "metadata": {
        "id": "KSG2aGm2wLwu"
      },
      "execution_count": 6,
      "outputs": []
    },
    {
      "cell_type": "markdown",
      "source": [
        "## Sessão 2: Definindo os Agentes\n",
        "\n",
        "* Nesta seção, iremos definir os agentes que serão utilizados. Eles irão se comunicar entre si para fornecer nossa resposta final.\n",
        "* Os agentes são:\n",
        "  * Agente 1: Pesquisador\n",
        "    * Tem como objetivo a partir do tópico de entrada realizar uma extensa pesquisa sobre o tema, limitando a até 5 artigos ou notícias relevantes relacionadas. Extrai as informações dos textos para passar para o próximo agente.\n",
        "  * Agente 2: Simplificador e Interpretador\n",
        "    * Atua pegando o resultado vindo do agente pesquisador e o processando, de modo a montar uma estrutura onde é claro os seguintes tópicos de cada uma das fotnes: O que é, como foi feito, o que descobriram, porque é importante, link de acesso original, quem descobriu, instituição de ensino, ano de publicação.\n",
        "  * Agente 3: Gerador de Texto de Divulgação Científica\n",
        "    * A partir das informações vindas do agente simplificador, esse último agente monta a estrutura do texto de divulgação científica. Seguindo uma estrutura de partes inicialmente, que são juntadas para formar um texto completo que a partir de uma revisão humana pode ser publicado em um blog ou revista de divulgação científica.\n",
        "* Importante ter em mente que apesar da inteligência artificial fazer um bom trabalho coletando e processando informações, o trabalho humano é essencial para a partir das informações fornecidas montar um artigo de divulgação científica.\n",
        "\n",
        "\n"
      ],
      "metadata": {
        "id": "dYB_-g1qxZ5X"
      }
    },
    {
      "cell_type": "code",
      "source": [
        "##########################################\n",
        "# --- Agente 1: Pesquisador --- #\n",
        "##########################################\n",
        "def agente_pesquisador(topico):\n",
        "  pesquisador = Agent(\n",
        "      name = \"agente_pesquisador\",\n",
        "      model = \"gemini-2.0-flash\",\n",
        "      instruction=\"\"\"\n",
        "      Você é um pequisador que deseja produzir conteúdo de divulgação científica. A sua tarefa é\n",
        "      receber um tema de pesquisa ou uma descrição e encontrar artigos acadêmicos, ou notícias\n",
        "      relevantes. A sua tarefa é usar a ferramenta de busca do google (google_search), para extrair\n",
        "      as informações mais relevantes sobre o tema. Selecione até 5 fontes relevantes para o tema, se possível\n",
        "      e extraia as informações do tema e qual o nome do artigo original, quais são os pesquisadores envolvidos,\n",
        "      qual é a instituição de ensino envolvida, qual é o ano de publicação, qual é o título do artigo, qual é o resumo do artigo,\n",
        "      qual é o link do artigo.\n",
        "      \"\"\",\n",
        "      description=\"Agente que seleciona e extrai informações de artigos acadêmicos com potencial para divulgação.\",\n",
        "      tools=[google_search]\n",
        "  )\n",
        "\n",
        "  entrada_do_agente_pesquisador = f\"Tópico{topico}\\n\"\n",
        "\n",
        "  #Executar o agente\n",
        "  resultado_pesquisador = call_agent(pesquisador, entrada_do_agente_pesquisador)\n",
        "\n",
        "  return resultado_pesquisador\n"
      ],
      "metadata": {
        "id": "RqEURtLV3Q0a"
      },
      "execution_count": 7,
      "outputs": []
    },
    {
      "cell_type": "code",
      "source": [
        "##########################################\n",
        "# --- Agente 2: Simplificador e Interpretador --- #\n",
        "##########################################\n",
        "def agente_simplificador(topico, resultado_pesquisador):\n",
        "    simplificador = Agent(\n",
        "        name=\"agente_simplificador\",\n",
        "        model=\"gemini-2.0-flash\",\n",
        "        instruction=\"\"\"\n",
        "        Você é um divulgador científico especializado em simplificar conceitos complexos\n",
        "        para um público amplo. Você receberá informações sobre artigos acadêmicos, incluindo\n",
        "        seus resumos. Sua tarefa é ler cada resumo, artigo e matéria de notícias e simplificar\n",
        "        o conteúdo para que possa ser facilmente comprendido por uma pessoa fora da área.\n",
        "\n",
        "        Evite termos técnicos sempre que possivel, ou os explique brevemente. Apresente o conteúdo de cada\n",
        "        fonte dando enfoque para os seguintes pontos: \"O que foi feito\", \"O que foi descoberto\"\n",
        "        e \"por que isso é importante para nós\".\n",
        "\n",
        "        Artigo 1 Simplificado:\n",
        "        O que é: [Explicação simples do tema/problema]\n",
        "        Como foi feito: [Descrição simplificada da metodologia]\n",
        "        O que descobriram: [Resultados principais em linguagem acessível]\n",
        "        Por que é importante: [Explicação do impacto/relevância]\n",
        "        link de acesso: [Link do artigo original ou do site onde as informações foram retiradas, caso o link do artigo original não seja encontrado]\n",
        "        Quem descobriu: [Nome do pesquisador]\n",
        "        Instituição de ensino: [Nome da instituição]\n",
        "        Ano de publicação: [Ano de publicação]\n",
        "\n",
        "        Artigo 2 Simplificado:\n",
        "        ...e assim por diante.\n",
        "\n",
        "        \"\"\",\n",
        "        description=\"Agente pesquisador, responsável por simplificar o conteúdo técnico de artigos acadêmicos.\",\n",
        "\n",
        "    )\n",
        "\n",
        "    entrada_simplificador = f\"Tópico:{topico}\\n\\nInformações dos Artigos:\\n{resultado_pesquisador}\"\n",
        "\n",
        "    resultado_simplificador = call_agent(simplificador, entrada_simplificador)\n",
        "\n",
        "    return resultado_simplificador"
      ],
      "metadata": {
        "id": "oxFm_ayf3mFo"
      },
      "execution_count": 24,
      "outputs": []
    },
    {
      "cell_type": "code",
      "source": [
        "##########################################\n",
        "# --- Agente 3: Gerador de Texto de Divulgação científica --- #\n",
        "##########################################\n",
        "def agente_gerador(topico,resultado_simplificador):\n",
        "  gerador = Agent(\n",
        "      name = \"agente_gerador\",\n",
        "      model = \"gemini-2.0-flash\",\n",
        "      instruction=\"\"\"\n",
        "      Você é um escritor de divulgação científica. Você receberá informações simplificadas\n",
        "      sobre artigos acadêmicos. Sua tarefa é copilar este conteúdo em um texto coeso e\n",
        "      envolvente que possa ser publicado em um site ou artigo de divulgação científica.\n",
        "      O formato deve ser adequado para um públicoa amplo, incluindo pessoas sem formação\n",
        "      científica.\n",
        "\n",
        "      **Etapa 1: Estruturação do conteúdo em partes principais (Não apresentar ao usuário)**\n",
        "\n",
        "      Separe as partes do texto inicialmente da seguinte forma:\n",
        "      -Título curto, chamativo e representativo do texto noticiado\n",
        "      -Subtítulo que complete a informação\n",
        "      -Lide: Apresenta de forma resumida o conteúdo a ser noticiado, elaborando brevemente o tema com os\n",
        "      questionamentos, o que será reportado? Quem identificou ou propos o que será discutido? Onde ou como\n",
        "      foi desenvolvido o estudo? Quando foi desenvolvido? Como? Por quê? Quais os resultados? Quais as implicações?\n",
        "      -Desenvolvimento Inicial: Pontuar os elementos imprescindíveis que o leitor tome conhecimento para o\n",
        "      entendimento do texto, elaborando aspectos teóricos e metodológicos que sustentam a investigação do tema. Use um ou mais parágrafos.\n",
        "      -Desenvolvimento Final: Apresentar os resultados obtidos, destacando os principais achados e suas implicações. Use um ou mais parágrafos.\n",
        "      -Finalização do texto: Conclusão do texto, destacando a importância do estudo e possíveis avanços futuros.Use um ou mais parágrafos.\n",
        "      -Referências: liste as fontes simplificadas recebidas, incluindo o nome/título e o link de acesso original. Caso não seja possível\n",
        "      encontrar o link original do artigo, pode colocar o da notícia ou local de onde foi retirado.\n",
        "\n",
        "\n",
        "      **Etapa 2: Gerar o Texto Corrido (Apresentar ao usuário)**\n",
        "\n",
        "      Em seguida, pegue o conteúdo que você estruturou na Etapa 1 e escreva um texto contínuo,\n",
        "      fluindo naturalmente entre as partes em formato de parágrafos. Siga a ordem\n",
        "      definida na Etapa 1: Título, Subtítulo, Lide, Desenvolvimento Inicial, Desenvolvimento Final, Finalização e Referências.\n",
        "\n",
        "      Mantenha um tom entusiasmado e acessível. Use transições suaves entre os parágrafos.\n",
        "      O objetivo é criar uma narrativa clara que seja fácil e agradável de ler para um público sem conhecimento prévio na área.\n",
        "\n",
        "\n",
        "      Evite jargões e explicações excessivamente complexas.\n",
        "      O objetivo é informar, educar e inspirar o interesse pela ciência.\n",
        "      \"\"\",\n",
        "      description='Agente responsável por desenvolver o texto de divulgação científica'\n",
        "  )\n",
        "\n",
        "  entrada_gerador = f\"Tópico:{topico}\\n\\nInformações dos Artigos Simplificados:\\n{resultado_simplificador}\"\n",
        "\n",
        "  resultado_gerador = call_agent(gerador, entrada_gerador)\n",
        "\n",
        "  return resultado_gerador"
      ],
      "metadata": {
        "id": "Qd7ry1dF3nf5"
      },
      "execution_count": 25,
      "outputs": []
    },
    {
      "cell_type": "markdown",
      "source": [
        "### Sessão 3: Resultados\n",
        "\n",
        "* Agora vamos ao resultado final, o tópico será fornecido pelo usuário e a partir disso, um texto de divulgação científica de resultados recentes na área de pesquisa desejada será montado.\n",
        "* Extremamente útil para descrever o estado da arte atual de uma área de pesquisa, quais suas aplicações e importância.\n"
      ],
      "metadata": {
        "id": "Rcf7bMTh3n-B"
      }
    },
    {
      "cell_type": "code",
      "source": [
        "#Agora, vamos produzir os resultados\n",
        "\n",
        "#Obtendo tópico do usuário:\n",
        "\n",
        "topico = input(\"Digite o tópico que deseja pesquisar: \")\n",
        "\n",
        "#Inserindo lógica do sistema de agentes\n",
        "if not topico:\n",
        "  print(\"Você esqueceu de digitar o tópico!\")\n",
        "else:\n",
        "  print(f\"Maravilha! Vamos escrever o texto!\")\n",
        "\n",
        "  #Agora, vamos colocar os agentes para trabalhar:\n",
        "\n",
        "  resultado_pesquisador = agente_pesquisador(topico)\n",
        "  print(\"Resultado do agente pesquisador:\\n\")\n",
        "  display(to_markdown(resultado_pesquisador))\n",
        "\n",
        "  resultado_simplificador = agente_simplificador(topico, resultado_pesquisador)\n",
        "  print(\"Resultado do agente simplificador:\\n\")\n",
        "  display(to_markdown(resultado_simplificador))\n",
        "\n",
        "  resultado_gerador = agente_gerador(topico, resultado_simplificador)\n",
        "  print(\"Resultado do agente gerador:\\n\")\n",
        "  display(to_markdown(resultado_gerador))\n",
        "\n"
      ],
      "metadata": {
        "colab": {
          "base_uri": "https://localhost:8080/",
          "height": 1000
        },
        "id": "H8apWkUTJQBJ",
        "outputId": "e72741f3-fed0-44e1-ddc6-5316d0292b8e"
      },
      "execution_count": 26,
      "outputs": [
        {
          "output_type": "stream",
          "name": "stdout",
          "text": [
            "Digite o tópico que deseja pesquisar: Raios Cósmicos\n",
            "Maravilha! Vamos escrever o texto!\n",
            "Resultado do agente pesquisador:\n",
            "\n"
          ]
        },
        {
          "output_type": "display_data",
          "data": {
            "text/plain": [
              "<IPython.core.display.Markdown object>"
            ],
            "text/markdown": "> Aqui estão algumas informações sobre raios cósmicos, extraídas de artigos acadêmicos e notícias relevantes:\n> \n> \n> Com certeza! Aqui está um resumo sobre raios cósmicos, baseado nas fontes fornecidas:\n> \n> **O que são raios cósmicos?**\n> \n> Raios cósmicos são partículas carregadas que viajam pelo espaço a velocidades próximas à da luz. Eles podem ser prótons ou núcleos de átomos. Ao atingirem a atmosfera da Terra, colidem com moléculas de nitrogênio e oxigênio, resultando em \"chuveiros\" de outras partículas.\n> \n> **De onde vêm?**\n> \n> A origem exata dos raios cósmicos ainda é um mistério. Acredita-se que raios cósmicos de baixa e alta energia se formem em explosões de supernovas na Via Láctea. Os de energia mais alta podem vir de objetos mais distantes, como núcleos ativos de galáxias. Uma descoberta recente identificou um \"super acelerador\" de raios cósmicos em nossa galáxia, uma estrutura semelhante a uma bolha na constelação de Cygnus.\n> \n> **Por que são importantes?**\n> \n> O estudo dos raios cósmicos é importante para entender eventos extremos no Universo, como explosões de supernovas e colisões de buracos negros. Eles também podem revelar propriedades fundamentais da física ainda desconhecidas.\n> \n> **Efeitos na Terra e na saúde:**\n> \n> *   A atmosfera e a magnetosfera da Terra nos protegem da maioria dos raios cósmicos.\n> *   Raios cósmicos podem danificar equipamentos e aumentar o risco de câncer.\n> *   Podem interferir em comunicações globais e satélites.\n> *   Pessoas que permanecem em grandes altitudes, como tripulações de aviões e astronautas, estão expostas a maiores níveis de radiação cósmica.\n> \n> **Pesquisas Atuais:**\n> \n> *   O Observatório Pierre Auger, na Argentina, é o maior do mundo dedicado ao estudo de raios cósmicos.\n> *   Cientistas estão usando inteligência artificial para analisar dados coletados pelo observatório e descobrir novos detalhes sobre essas partículas.\n> *   Pesquisadores da USP recriaram o motor dos raios cósmicos de fora da Via Láctea por meio de simulações.\n> \n> **Artigos e Fontes:**\n> \n> 1.  **Título:** Cientistas descobrem pela primeira vez acelerador de raios cósmicos\n>     *   **Fonte:** Exame\n>     *   **Data:** 27 de fevereiro de 2024\n>     *   **Resumo:** Identificação de uma estrutura na constelação de Cygnus que atua como um acelerador de raios cósmicos.\n>     *   **Link:** [https://exame.com/ciencia/cientistas-descobrem-pela-primeira-vez-acelerador-de-raios-cosmicos/](https://exame.com/ciencia/cientistas-descobrem-pela-primeira-vez-acelerador-de-raios-cosmicos/)\n> 2.  **Título:** Raios cósmicos\n>     *   **Fonte:** Jornal da USP\n>     *   **Resumo:** Coletânea de notícias e artigos sobre raios cósmicos, com destaque para pesquisas da USP.\n>     *   **Link:** [https://jornal.usp.br/tag/raios-cosmicos/](https://jornal.usp.br/tag/raios-cosmicos/)\n> 3.  **Título:** Raios Cósmicos\n>     *   **Fonte:** Com Ciência\n>     *   **Resumo:** Aborda os efeitos dos raios cósmicos sobre a saúde, especialmente em grandes altitudes.\n>     *   **Link:** [https://www.comciencia.br/raios-cosmicos/](https://www.comciencia.br/raios-cosmicos/)\n> 4.  **Título:** Algo está a bombardear a Terra com raios cósmicos mais poderosos já detetados\n>     *   **Fonte:** Pplware\n>     *   **Data:** 1 de dezembro de 2024\n>     *   **Resumo:** Detecção de partículas cósmicas com energia sem precedentes e seus possíveis impactos.\n>     *   **Link:** [https://pplware.sapo.pt/ciencia/algo-esta-a-bombardear-a-terra-com-raios-cosmicos-mais-poderosos-ja-detetados/](https://pplware.sapo.pt/ciencia/algo-esta-a-bombardear-a-terra-com-raios-cosmicos-mais-poderosos-ja-detetados/)\n> 5.  **Título:** Raios Cósmicos – Inteligência Artificial ajuda a desvendar o mistério das partículas mais energéticas do Universo\n>     *   **Fonte:** Portal USP São Carlos\n>     *   **Data:** 29 de abril de 2025\n>     *   **Resumo:** Utilização de inteligência artificial para analisar dados de raios cósmicos e seus potenciais impactos na compreensão do Universo.\n>     *   **Link:** [https://saocarlos.usp.br/raios-cosmicos-inteligencia-artificial-ajuda-a-desvendar-o-misterio-das-particulas-mais-energeticas-do-universo/](https://saocarlos.usp.br/raios-cosmicos-inteligencia-artificial-ajuda-a-desvendar-o-misterio-das-particulas-mais-energeticas-do-universo/)\n> \n> Espero que isto ajude!\n> \n"
          },
          "metadata": {}
        },
        {
          "output_type": "stream",
          "name": "stdout",
          "text": [
            "Resultado do agente simplificador:\n",
            "\n"
          ]
        },
        {
          "output_type": "display_data",
          "data": {
            "text/plain": [
              "<IPython.core.display.Markdown object>"
            ],
            "text/markdown": "> ## Raios Cósmicos Simplificados:\n> \n> **Artigo 1 Simplificado:**\n> \n> *   **O que é:** Cientistas descobriram um lugar no espaço que funciona como um \"acelerador\" de raios cósmicos. Imagine uma máquina gigante que impulsiona essas partículas a velocidades incríveis.\n> *   **Como foi feito:** Através da observação e análise de dados do espaço, os cientistas identificaram uma estrutura específica na constelação de Cygnus.\n> *   **O que descobriram:** Essa estrutura, semelhante a uma bolha, está \"chutando\" os raios cósmicos, aumentando sua velocidade e energia.\n> *   **Por que é importante:** Entender como esses aceleradores funcionam nos ajuda a desvendar de onde vêm e como os raios cósmicos ganham tanta energia.\n> *   **Link de acesso:** [https://exame.com/ciencia/cientistas-descobrem-pela-primeira-vez-acelerador-de-raios-cosmicos/](https://exame.com/ciencia/cientistas-descobrem-pela-primeira-vez-acelerador-de-raios-cosmicos/)\n> *   **Quem descobriu:** (Não especificado no resumo)\n> *   **Instituição de ensino:** (Não especificado no resumo)\n> *   **Ano de publicação:** 2024\n> \n> **Artigo 2 Simplificado:**\n> \n> *   **O que é:** Uma coletânea de notícias e artigos sobre raios cósmicos, com foco nas pesquisas da Universidade de São Paulo (USP).\n> *   **Como foi feito:** Reunião de diversos estudos e reportagens sobre o tema.\n> *   **O que descobriram:** A USP tem realizado diversas pesquisas importantes sobre raios cósmicos, contribuindo para o avanço do conhecimento nessa área.\n> *   **Por que é importante:** Destaca a relevância da pesquisa nacional no estudo de um fenômeno complexo e fundamental para a astrofísica.\n> *   **Link de acesso:** [https://jornal.usp.br/tag/raios-cosmicos/](https://jornal.usp.br/tag/raios-cosmicos/)\n> *   **Quem descobriu:** (Não especificado no resumo)\n> *   **Instituição de ensino:** Universidade de São Paulo (USP)\n> *   **Ano de publicação:** (Diversos)\n> \n> **Artigo 3 Simplificado:**\n> \n> *   **O que é:** Este artigo explora como os raios cósmicos podem afetar nossa saúde, especialmente em grandes altitudes.\n> *   **Como foi feito:** Análise dos efeitos da radiação cósmica em diferentes níveis da atmosfera.\n> *   **O que descobriram:** A exposição a raios cósmicos aumenta em altitudes elevadas, representando um risco maior para a saúde de tripulantes de voo e astronautas.\n> *   **Por que é importante:** Alerta para os riscos da radiação cósmica e a necessidade de medidas de proteção para pessoas que trabalham ou viajam em grandes altitudes.\n> *   **Link de acesso:** [https://www.comciencia.br/raios-cosmicos/](https://www.comciencia.br/raios-cosmicos/)\n> *   **Quem descobriu:** (Não especificado no resumo)\n> *   **Instituição de ensino:** (Não especificado no resumo)\n> *   **Ano de publicação:** (Não especificado no resumo)\n> \n> **Artigo 4 Simplificado:**\n> \n> *   **O que é:** Detectaram raios cósmicos com uma energia nunca antes vista bombardeando a Terra.\n> *   **Como foi feito:** Através de observatórios e detectores de partículas.\n> *   **O que descobriram:** A energia desses raios cósmicos é tão alta que desafia as teorias atuais sobre como essas partículas são aceleradas no Universo.\n> *   **Por que é importante:** Essa descoberta pode levar a uma revisão das teorias sobre a origem e o comportamento dos raios cósmicos, abrindo novas portas para a física.\n> *   **Link de acesso:** [https://pplware.sapo.pt/ciencia/algo-esta-a-bombardear-a-terra-com-raios-cosmicos-mais-poderosos-ja-detetados/](https://pplware.sapo.pt/ciencia/algo-esta-a-bombardear-a-terra-com-raios-cosmicos-mais-poderosos-ja-detetados/)\n> *   **Quem descobriu:** (Não especificado no resumo)\n> *   **Instituição de ensino:** (Não especificado no resumo)\n> *   **Ano de publicação:** 2024\n> \n> **Artigo 5 Simplificado:**\n> \n> *   **O que é:** Cientistas estão usando inteligência artificial para entender melhor os raios cósmicos, as partículas mais energéticas do Universo.\n> *   **Como foi feito:** Desenvolvendo algoritmos de IA para analisar os dados complexos coletados pelos observatórios de raios cósmicos.\n> *   **O que descobriram:** A IA está ajudando a identificar padrões e características nos dados que seriam difíceis de detectar com métodos tradicionais, revelando novos detalhes sobre a origem e o comportamento dessas partículas.\n> *   **Por que é importante:** O uso da IA pode acelerar a descoberta de novos conhecimentos sobre os raios cósmicos e seu impacto no Universo.\n> *   **Link de acesso:** [https://saocarlos.usp.br/raios-cosmicos-inteligencia-artificial-ajuda-a-desvendar-o-misterio-das-particulas-mais-energeticas-do-universo/](https://saocarlos.usp.br/raios-cosmicos-inteligencia-artificial-ajuda-a-desvendar-o-misterio-das-particulas-mais-energeticas-do-universo/)\n> *   **Quem descobriu:** (Não especificado no resumo)\n> *   **Instituição de ensino:** Portal USP São Carlos\n> *   **Ano de publicação:** 2025\n> \n> **Em resumo:** Raios cósmicos são partículas super rápidas que vêm do espaço. Os cientistas estão usando tecnologia de ponta, como inteligência artificial, para estudar sua origem, como são aceleradas e quais seus efeitos em nós e no universo. É um campo de pesquisa emocionante que ainda tem muitos mistérios a serem desvendados!\n> \n"
          },
          "metadata": {}
        },
        {
          "output_type": "stream",
          "name": "stdout",
          "text": [
            "Resultado do agente gerador:\n",
            "\n"
          ]
        },
        {
          "output_type": "display_data",
          "data": {
            "text/plain": [
              "<IPython.core.display.Markdown object>"
            ],
            "text/markdown": "> ## Desvendando os Segredos dos Raios Cósmicos: Uma Jornada Cósmica da Terra ao Universo!\n> \n> ### De aceleradores espaciais a riscos à saúde em grandes altitudes, descubra as últimas novidades sobre as partículas mais energéticas do universo e como a ciência está desvendando seus mistérios!\n> \n> Já se perguntou o que são raios cósmicos e de onde eles vêm? Imagine partículas super energéticas, viajando pelo espaço a velocidades incríveis, algumas delas sendo aceleradas por verdadeiras \"máquinas cósmicas\" espalhadas pelo universo! Cientistas ao redor do mundo estão se unindo para desvendar os segredos desses raios, utilizando tecnologia de ponta e inteligência artificial para compreender sua origem, como ganham tanta energia e qual o impacto que podem ter em nós e no universo.\n> \n> Para entender melhor, podemos pensar nos raios cósmicos como mensageiros do espaço, carregando informações valiosas sobre os cantos mais distantes do cosmos. Para estudá-los, os cientistas usam observatórios, detectores de partículas e até mesmo inteligência artificial, criando algoritmos para analisar os dados complexos que coletam. A Universidade de São Paulo (USP), por exemplo, tem se destacado com diversas pesquisas importantes nessa área, contribuindo para o avanço do conhecimento sobre esse tema fascinante.\n> \n> As descobertas são surpreendentes! Recentemente, foi identificada uma estrutura na constelação de Cygnus que funciona como um \"acelerador\" de raios cósmicos, impulsionando-os a velocidades extremas. Além disso, os cientistas detectaram raios cósmicos com energias nunca antes vistas bombardeando a Terra, desafiando as teorias existentes sobre como essas partículas são aceleradas no Universo. E não para por aí: pesquisadores também estão investigando como a exposição a raios cósmicos aumenta em grandes altitudes, representando um risco para a saúde de tripulantes de voo e astronautas, o que nos mostra que esses fenômenos cósmicos podem ter efeitos bem reais em nosso dia a dia.\n> \n> O estudo dos raios cósmicos é um campo de pesquisa empolgante e dinâmico, que promete muitas novidades nos próximos anos. A cada nova descoberta, nos aproximamos um pouco mais de compreender os mistérios do universo e o nosso lugar nele. Com a ajuda da tecnologia e a dedicação de cientistas do mundo todo, os segredos dos raios cósmicos estão cada vez mais próximos de serem revelados, abrindo novas portas para a física e a astrofísica.\n> \n> **Referências:**\n> \n> 1.  **Cientistas descobrem pela primeira vez acelerador de raios cósmicos:** [https://exame.com/ciencia/cientistas-descobrem-pela-primeira-vez-acelerador-de-raios-cosmicos/](https://exame.com/ciencia/cientistas-descobrem-pela-primeira-vez-acelerador-de-raios-cosmicos/)\n> 2.  **Raios Cósmicos (Jornal da USP):** [https://jornal.usp.br/tag/raios-cosmicos/](https://jornal.usp.br/tag/raios-cosmicos/)\n> 3.  **Raios cósmicos (ComCiência):** [https://www.comciencia.br/raios-cosmicos/](https://www.comciencia.br/raios-cosmicos/)\n> 4.  **Algo está a bombardear a Terra com raios cósmicos mais poderosos já detetados:** [https://pplware.sapo.pt/ciencia/algo-esta-a-bombardear-a-terra-com-raios-cosmicos-mais-poderosos-ja-detetados/](https://pplware.sapo.pt/ciencia/algo-esta-a-bombardear-a-terra-com-raios-cosmicos-mais-poderosos-ja-detetados/)\n> 5.  **Raios cósmicos: inteligência artificial ajuda a desvendar o mistério das partículas mais energéticas do universo:** [https://saocarlos.usp.br/raios-cosmicos-inteligencia-artificial-ajuda-a-desvendar-o-misterio-das-particulas-mais-energeticas-do-universo/](https://saocarlos.usp.br/raios-cosmicos-inteligencia-artificial-ajuda-a-desvendar-o-misterio-das-particulas-mais-energeticas-do-universo/)\n> \n"
          },
          "metadata": {}
        }
      ]
    }
  ]
}